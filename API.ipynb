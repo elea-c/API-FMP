{
 "cells": [
  {
   "cell_type": "markdown",
   "metadata": {},
   "source": [
    "Task : Recueillir tout les données d'une compagnie grâce à FMP"
   ]
  },
  {
   "cell_type": "code",
   "execution_count": 1,
   "metadata": {},
   "outputs": [],
   "source": [
    "# Importer les bibliothèques nécessaires\n",
    "import requests\n",
    "import pandas as pd"
   ]
  },
  {
   "cell_type": "code",
   "execution_count": 2,
   "metadata": {},
   "outputs": [],
   "source": [
    "# Définir la clé API FMP (veillez à ne pas partager cette clé en externe)\n",
    "API_KEY = \n",
    "BASE_URL = \"https://financialmodelingprep.com/api/v3\""
   ]
  },
  {
   "cell_type": "code",
   "execution_count": 3,
   "metadata": {},
   "outputs": [],
   "source": [
    "# Fonction pour récupérer les données de cotation en bourse d'une entreprise\n",
    "def get_stock_quote(ticker):\n",
    "    \"\"\"\n",
    "    Récupère les données de cotation en bourse pour une entreprise donnée.\n",
    "\n",
    "    Paramètres:\n",
    "        ticker (str): Le symbole boursier de l'entreprise (par exemple, \"AAPL\").\n",
    "\n",
    "    Retourne:\n",
    "        dict: Un dictionnaire contenant les informations de la cotation.\n",
    "    \"\"\"\n",
    "    endpoint = f\"{BASE_URL}/quote/{ticker}\"\n",
    "    params = {\"apikey\": API_KEY}\n",
    "    response = requests.get(endpoint, params=params)\n",
    "    \n",
    "    if response.status_code == 200:\n",
    "        return response.json()\n",
    "    else:\n",
    "        response.raise_for_status()"
   ]
  },
  {
   "cell_type": "code",
   "execution_count": 4,
   "metadata": {},
   "outputs": [],
   "source": [
    "# Fonction pour récupérer les états financiers d'une entreprise\n",
    "def get_financial_statements(ticker, statement_type):\n",
    "    \"\"\"\n",
    "    Récupère les états financiers (income statement, balance sheet, cash flow) d'une entreprise donnée.\n",
    "\n",
    "    Paramètres:\n",
    "        ticker (str): Le symbole boursier de l'entreprise (par exemple, \"AAPL\").\n",
    "        statement_type (str): Le type d'état financier (\"income-statement\", \"balance-sheet-statement\", \"cash-flow-statement\").\n",
    "\n",
    "    Retourne:\n",
    "        pd.DataFrame: Un DataFrame contenant les données de l'état financier.\n",
    "    \"\"\"\n",
    "    endpoint = f\"{BASE_URL}/{statement_type}/{ticker}\"\n",
    "    params = {\"apikey\": API_KEY}\n",
    "    response = requests.get(endpoint, params=params)\n",
    "    \n",
    "    if response.status_code == 200:\n",
    "        data = response.json()\n",
    "        return pd.DataFrame(data)\n",
    "    else:\n",
    "        response.raise_for_status()"
   ]
  },
  {
   "cell_type": "code",
   "execution_count": 5,
   "metadata": {},
   "outputs": [],
   "source": [
    "# Fonction pour récupérer les informations du profil d'une entreprise\n",
    "def get_company_profile(ticker):\n",
    "    \"\"\"\n",
    "    Récupère les informations de profil d'une entreprise donnée.\n",
    "\n",
    "    Paramètres:\n",
    "        ticker (str): Le symbole boursier de l'entreprise (par exemple, \"AAPL\").\n",
    "\n",
    "    Retourne:\n",
    "        dict: Un dictionnaire contenant les informations de profil de l'entreprise.\n",
    "    \"\"\"\n",
    "    endpoint = f\"{BASE_URL}/profile/{ticker}\"\n",
    "    params = {\"apikey\": API_KEY}\n",
    "    response = requests.get(endpoint, params=params)\n",
    "    \n",
    "    if response.status_code == 200:\n",
    "        return response.json()\n",
    "    else:\n",
    "        response.raise_for_status()"
   ]
  },
  {
   "cell_type": "code",
   "execution_count": 8,
   "metadata": {},
   "outputs": [
    {
     "name": "stdout",
     "output_type": "stream",
     "text": [
      "Récupération de la cotation boursière...\n",
      "[{'symbol': 'TSLA', 'name': 'Tesla, Inc.', 'price': 403.31, 'changesPercentage': 2.171, 'change': 8.57, 'dayLow': 380.07, 'dayHigh': 403.79, 'yearHigh': 488.54, 'yearLow': 138.8, 'marketCap': 1294649298600, 'priceAvg50': 365.0262, 'priceAvg200': 245.57605, 'exchange': 'NASDAQ', 'volume': 65393097, 'avgVolume': 92499967, 'open': 383.21, 'previousClose': 394.74, 'eps': 3.63, 'pe': 111.1, 'earningsAnnouncement': '2025-01-29T21:00:00.000+0000', 'sharesOutstanding': 3210060000, 'timestamp': 1736802001}]\n",
      "\n",
      "Récupération des états financiers...\n",
      "         date symbol reportedCurrency         cik fillingDate  \\\n",
      "0  2023-12-31   TSLA              USD  0001318605  2024-01-29   \n",
      "1  2022-12-31   TSLA              USD  0001318605  2023-01-31   \n",
      "2  2021-12-31   TSLA              USD  0001318605  2022-05-02   \n",
      "3  2020-12-31   TSLA              USD  0001318605  2021-02-08   \n",
      "4  2019-12-31   TSLA              USD  0001318605  2020-02-13   \n",
      "\n",
      "          acceptedDate calendarYear period      revenue  costOfRevenue  ...  \\\n",
      "0  2024-01-26 21:00:20         2023     FY  96773000000    79113000000  ...   \n",
      "1  2023-01-30 21:29:15         2022     FY  81462000000    60609000000  ...   \n",
      "2  2022-04-29 18:05:17         2021     FY  53823000000    40217000000  ...   \n",
      "3  2021-02-08 07:27:23         2020     FY  31536000000    24906000000  ...   \n",
      "4  2020-02-13 07:12:18         2019     FY  24578000000    20509000000  ...   \n",
      "\n",
      "   incomeBeforeTaxRatio  incomeTaxExpense    netIncome  netIncomeRatio   eps  \\\n",
      "0              0.103056       -5001000000  14999000000        0.154992  4.73   \n",
      "1              0.168410        1132000000  12583000000        0.154465  4.02   \n",
      "2              0.117849         699000000   5524000000        0.102633  1.87   \n",
      "3              0.036593         292000000    721000000        0.022863  0.25   \n",
      "4             -0.027057         110000000   -862000000       -0.035072 -0.33   \n",
      "\n",
      "   epsdiluted  weightedAverageShsOut  weightedAverageShsOutDil  \\\n",
      "0        4.30             3174000000                3485000000   \n",
      "1        3.62             3130000000                3475000000   \n",
      "2        1.63             2959000000                3386000000   \n",
      "3        0.21             2880000000                2880000000   \n",
      "4       -0.33             2655000000                2655000000   \n",
      "\n",
      "                                                link  \\\n",
      "0  https://www.sec.gov/Archives/edgar/data/131860...   \n",
      "1  https://www.sec.gov/Archives/edgar/data/131860...   \n",
      "2  https://www.sec.gov/Archives/edgar/data/131860...   \n",
      "3  https://www.sec.gov/Archives/edgar/data/131860...   \n",
      "4  https://www.sec.gov/Archives/edgar/data/131860...   \n",
      "\n",
      "                                           finalLink  \n",
      "0  https://www.sec.gov/Archives/edgar/data/131860...  \n",
      "1  https://www.sec.gov/Archives/edgar/data/131860...  \n",
      "2  https://www.sec.gov/Archives/edgar/data/131860...  \n",
      "3  https://www.sec.gov/Archives/edgar/data/131860...  \n",
      "4  https://www.sec.gov/Archives/edgar/data/131860...  \n",
      "\n",
      "[5 rows x 38 columns]\n",
      "\n",
      "Récupération du profil de l'entreprise...\n",
      "[{'symbol': 'TSLA', 'price': 403.31, 'beta': 2.295, 'volAvg': 92499967, 'mktCap': 1294649298600, 'lastDiv': 0, 'range': '138.8-488.54', 'changes': 8.57, 'companyName': 'Tesla, Inc.', 'currency': 'USD', 'cik': '0001318605', 'isin': 'US88160R1014', 'cusip': '88160R101', 'exchange': 'NASDAQ Global Select', 'exchangeShortName': 'NASDAQ', 'industry': 'Auto - Manufacturers', 'website': 'https://www.tesla.com', 'description': 'Tesla, Inc. designs, develops, manufactures, leases, and sells electric vehicles, and energy generation and storage systems in the United States, China, and internationally. It operates in two segments, Automotive, and Energy Generation and Storage. The Automotive segment offers electric vehicles, as well as sells automotive regulatory credits; and non-warranty after-sales vehicle, used vehicles, retail merchandise, and vehicle insurance services. This segment also provides sedans and sport utility vehicles through direct and used vehicle sales, a network of Tesla Superchargers, and in-app upgrades; purchase financing and leasing services; services for electric vehicles through its company-owned service locations and Tesla mobile service technicians; and vehicle limited warranties and extended service plans. The Energy Generation and Storage segment engages in the design, manufacture, installation, sale, and leasing of solar energy generation and energy storage products, and related services to residential, commercial, and industrial customers and utilities through its website, stores, and galleries, as well as through a network of channel partners; and provision of service and repairs to its energy product customers, including under warranty, as well as various financing options to its solar customers. The company was formerly known as Tesla Motors, Inc. and changed its name to Tesla, Inc. in February 2017. Tesla, Inc. was incorporated in 2003 and is headquartered in Austin, Texas.', 'ceo': 'Mr. Elon R. Musk', 'sector': 'Consumer Cyclical', 'country': 'US', 'fullTimeEmployees': '140473', 'phone': '512 516 8177', 'address': '1 Tesla Road', 'city': 'Austin', 'state': 'TX', 'zip': '78725', 'dcfDiff': 328.9047, 'dcf': 65.22110158365673, 'image': 'https://images.financialmodelingprep.com/symbol/TSLA.png', 'ipoDate': '2010-06-29', 'defaultImage': False, 'isEtf': False, 'isActivelyTrading': True, 'isAdr': False, 'isFund': False}]\n"
     ]
    }
   ],
   "source": [
    "# Exemple d'utilisation\n",
    "def main():\n",
    "    answer = input(\"Which ticker do you want to verify?\")\n",
    "    ticker = answer  # Exemple: Apple Inc.\n",
    "    print(\"Récupération de la cotation boursière...\")\n",
    "    stock_quote = get_stock_quote(ticker)\n",
    "    print(stock_quote)\n",
    "\n",
    "    print(\"\\nRécupération des états financiers...\")\n",
    "    income_statement = get_financial_statements(ticker, \"income-statement\")\n",
    "    print(income_statement.head())\n",
    "\n",
    "    print(\"\\nRécupération du profil de l'entreprise...\")\n",
    "    company_profile = get_company_profile(ticker)\n",
    "    print(company_profile)\n",
    "\n",
    "if __name__ == \"__main__\":\n",
    "    main()\n"
   ]
  }
 ],
 "metadata": {
  "kernelspec": {
   "display_name": "Python 3",
   "language": "python",
   "name": "python3"
  },
  "language_info": {
   "codemirror_mode": {
    "name": "ipython",
    "version": 3
   },
   "file_extension": ".py",
   "mimetype": "text/x-python",
   "name": "python",
   "nbconvert_exporter": "python",
   "pygments_lexer": "ipython3",
   "version": "3.11.9"
  }
 },
 "nbformat": 4,
 "nbformat_minor": 2
}
