{
 "cells": [
  {
   "cell_type": "markdown",
   "metadata": {},
   "source": [
    "Task : Recueillir tout les données d'une compagnie grâce à FMP"
   ]
  },
  {
   "cell_type": "code",
   "execution_count": 1,
   "metadata": {},
   "outputs": [],
   "source": [
    "# Importer les bibliothèques nécessaires\n",
    "import requests\n",
    "import pandas as pd"
   ]
  },
  {
   "cell_type": "code",
   "execution_count": 2,
   "metadata": {},
   "outputs": [],
   "source": [
    "# Définir la clé API FMP (veillez à ne pas partager cette clé en externe)\n",
    "API_KEY = \n",
    "BASE_URL = \"https://financialmodelingprep.com/api/v3\""
   ]
  },
  {
   "cell_type": "code",
   "execution_count": 3,
   "metadata": {},
   "outputs": [],
   "source": [
    "# Fonction pour récupérer les données de cotation en bourse d'une entreprise\n",
    "def get_stock_quote(ticker):\n",
    "    \"\"\"\n",
    "    Récupère les données de cotation en bourse pour une entreprise donnée.\n",
    "\n",
    "    Paramètres:\n",
    "        ticker (str): Le symbole boursier de l'entreprise (par exemple, \"AAPL\").\n",
    "\n",
    "    Retourne:\n",
    "        dict: Un dictionnaire contenant les informations de la cotation.\n",
    "    \"\"\"\n",
    "    endpoint = f\"{BASE_URL}/quote/{ticker}\"\n",
    "    params = {\"apikey\": API_KEY}\n",
    "    response = requests.get(endpoint, params=params)\n",
    "    \n",
    "    if response.status_code == 200:\n",
    "        return response.json()\n",
    "    else:\n",
    "        response.raise_for_status()"
   ]
  },
  {
   "cell_type": "code",
   "execution_count": 4,
   "metadata": {},
   "outputs": [],
   "source": [
    "# Fonction pour récupérer les états financiers d'une entreprise\n",
    "def get_financial_statements(ticker, statement_type):\n",
    "    \"\"\"\n",
    "    Récupère les états financiers (income statement, balance sheet, cash flow) d'une entreprise donnée.\n",
    "\n",
    "    Paramètres:\n",
    "        ticker (str): Le symbole boursier de l'entreprise (par exemple, \"AAPL\").\n",
    "        statement_type (str): Le type d'état financier (\"income-statement\", \"balance-sheet-statement\", \"cash-flow-statement\").\n",
    "\n",
    "    Retourne:\n",
    "        pd.DataFrame: Un DataFrame contenant les données de l'état financier.\n",
    "    \"\"\"\n",
    "    endpoint = f\"{BASE_URL}/{statement_type}/{ticker}\"\n",
    "    params = {\"apikey\": API_KEY}\n",
    "    response = requests.get(endpoint, params=params)\n",
    "    \n",
    "    if response.status_code == 200:\n",
    "        data = response.json()\n",
    "        return pd.DataFrame(data)\n",
    "    else:\n",
    "        response.raise_for_status()"
   ]
  },
  {
   "cell_type": "code",
   "execution_count": 5,
   "metadata": {},
   "outputs": [],
   "source": [
    "# Fonction pour récupérer les informations du profil d'une entreprise\n",
    "def get_company_profile(ticker):\n",
    "    \"\"\"\n",
    "    Récupère les informations de profil d'une entreprise donnée.\n",
    "\n",
    "    Paramètres:\n",
    "        ticker (str): Le symbole boursier de l'entreprise (par exemple, \"AAPL\").\n",
    "\n",
    "    Retourne:\n",
    "        dict: Un dictionnaire contenant les informations de profil de l'entreprise.\n",
    "    \"\"\"\n",
    "    endpoint = f\"{BASE_URL}/profile/{ticker}\"\n",
    "    params = {\"apikey\": API_KEY}\n",
    "    response = requests.get(endpoint, params=params)\n",
    "    \n",
    "    if response.status_code == 200:\n",
    "        return response.json()\n",
    "    else:\n",
    "        response.raise_for_status()"
   ]
  },
  {
   "cell_type": "code",
   "execution_count": 6,
   "metadata": {},
   "outputs": [
    {
     "name": "stdout",
     "output_type": "stream",
     "text": [
      "Récupération de la cotation boursière...\n",
      "[{'symbol': 'AAPL', 'name': 'Apple Inc.', 'price': 234.4, 'changesPercentage': -1.0344, 'change': -2.45, 'dayLow': 229.72, 'dayHigh': 234.67, 'yearHigh': 260.1, 'yearLow': 164.08, 'marketCap': 3543143520000, 'priceAvg50': 238.7128, 'priceAvg200': 215.46355, 'exchange': 'NASDAQ', 'volume': 49056366, 'avgVolume': 45067829, 'open': 233.53, 'previousClose': 236.85, 'eps': 6.75, 'pe': 34.73, 'earningsAnnouncement': '2025-01-30T21:00:00.000+0000', 'sharesOutstanding': 15115800000, 'timestamp': 1736802002}]\n",
      "\n",
      "Récupération des états financiers...\n",
      "         date symbol reportedCurrency         cik fillingDate  \\\n",
      "0  2024-09-28   AAPL              USD  0000320193  2024-11-01   \n",
      "1  2023-09-30   AAPL              USD  0000320193  2023-11-03   \n",
      "2  2022-09-24   AAPL              USD  0000320193  2022-10-28   \n",
      "3  2021-09-25   AAPL              USD  0000320193  2021-10-29   \n",
      "4  2020-09-26   AAPL              USD  0000320193  2020-10-30   \n",
      "\n",
      "          acceptedDate calendarYear period       revenue  costOfRevenue  ...  \\\n",
      "0  2024-11-01 06:01:36         2024     FY  391035000000   210352000000  ...   \n",
      "1  2023-11-02 18:08:27         2023     FY  383285000000   214137000000  ...   \n",
      "2  2022-10-27 18:01:14         2022     FY  394328000000   223546000000  ...   \n",
      "3  2021-10-28 18:04:28         2021     FY  365817000000   212981000000  ...   \n",
      "4  2020-10-29 18:06:25         2020     FY  274515000000   169559000000  ...   \n",
      "\n",
      "   incomeBeforeTaxRatio  incomeTaxExpense    netIncome  netIncomeRatio   eps  \\\n",
      "0              0.315790       29749000000  93736000000        0.239713  6.11   \n",
      "1              0.296740       16741000000  96995000000        0.253062  6.16   \n",
      "2              0.302040       19300000000  99803000000        0.253096  6.15   \n",
      "3              0.298529       14527000000  94680000000        0.258818  5.67   \n",
      "4              0.244398        9680000000  57411000000        0.209136  3.31   \n",
      "\n",
      "   epsdiluted  weightedAverageShsOut  weightedAverageShsOutDil  \\\n",
      "0        6.08            15343783000               15408095000   \n",
      "1        6.13            15744231000               15812547000   \n",
      "2        6.11            16215963000               16325819000   \n",
      "3        5.61            16701272000               16864919000   \n",
      "4        3.28            17352119000               17528214000   \n",
      "\n",
      "                                                link  \\\n",
      "0  https://www.sec.gov/Archives/edgar/data/320193...   \n",
      "1  https://www.sec.gov/Archives/edgar/data/320193...   \n",
      "2  https://www.sec.gov/Archives/edgar/data/320193...   \n",
      "3  https://www.sec.gov/Archives/edgar/data/320193...   \n",
      "4  https://www.sec.gov/Archives/edgar/data/320193...   \n",
      "\n",
      "                                           finalLink  \n",
      "0  https://www.sec.gov/Archives/edgar/data/320193...  \n",
      "1  https://www.sec.gov/Archives/edgar/data/320193...  \n",
      "2  https://www.sec.gov/Archives/edgar/data/320193...  \n",
      "3  https://www.sec.gov/Archives/edgar/data/320193...  \n",
      "4  https://www.sec.gov/Archives/edgar/data/320193...  \n",
      "\n",
      "[5 rows x 38 columns]\n",
      "\n",
      "Récupération du profil de l'entreprise...\n",
      "[{'symbol': 'AAPL', 'price': 234.4, 'beta': 1.24, 'volAvg': 45067829, 'mktCap': 3543143520000, 'lastDiv': 0.99, 'range': '164.08-260.1', 'changes': -2.45, 'companyName': 'Apple Inc.', 'currency': 'USD', 'cik': '0000320193', 'isin': 'US0378331005', 'cusip': '037833100', 'exchange': 'NASDAQ Global Select', 'exchangeShortName': 'NASDAQ', 'industry': 'Consumer Electronics', 'website': 'https://www.apple.com', 'description': 'Apple Inc. designs, manufactures, and markets smartphones, personal computers, tablets, wearables, and accessories worldwide. The company offers iPhone, a line of smartphones; Mac, a line of personal computers; iPad, a line of multi-purpose tablets; and wearables, home, and accessories comprising AirPods, Apple TV, Apple Watch, Beats products, and HomePod. It also provides AppleCare support and cloud services; and operates various platforms, including the App Store that allow customers to discover and download applications and digital content, such as books, music, video, games, and podcasts, as well as advertising services include third-party licensing arrangements and its own advertising platforms. In addition, the company offers various subscription-based services, such as Apple Arcade, a game subscription service; Apple Fitness+, a personalized fitness service; Apple Music, which offers users a curated listening experience with on-demand radio stations; Apple News+, a subscription news and magazine service; Apple TV+, which offers exclusive original content; Apple Card, a co-branded credit card; and Apple Pay, a cashless payment service, as well as licenses its intellectual property. The company serves consumers, and small and mid-sized businesses; and the education, enterprise, and government markets. It distributes third-party applications for its products through the App Store. The company also sells its products through its retail and online stores, and direct sales force; and third-party cellular network carriers, wholesalers, retailers, and resellers. Apple Inc. was founded in 1976 and is headquartered in Cupertino, California.', 'ceo': 'Mr. Timothy D. Cook', 'sector': 'Technology', 'country': 'US', 'fullTimeEmployees': '164000', 'phone': '(408) 996-1010', 'address': 'One Apple Park Way', 'city': 'Cupertino', 'state': 'CA', 'zip': '95014', 'dcfDiff': 91.65523, 'dcf': 141.2847666254711, 'image': 'https://images.financialmodelingprep.com/symbol/AAPL.png', 'ipoDate': '1980-12-12', 'defaultImage': False, 'isEtf': False, 'isActivelyTrading': True, 'isAdr': False, 'isFund': False}]\n"
     ]
    }
   ],
   "source": [
    "# Exemple d'utilisation\n",
    "def main():\n",
    "    ticker = \"AAPL\"  # Exemple: Apple Inc.\n",
    "    print(\"Récupération de la cotation boursière...\")\n",
    "    stock_quote = get_stock_quote(ticker)\n",
    "    print(stock_quote)\n",
    "\n",
    "    print(\"\\nRécupération des états financiers...\")\n",
    "    income_statement = get_financial_statements(ticker, \"income-statement\")\n",
    "    print(income_statement.head())\n",
    "\n",
    "    print(\"\\nRécupération du profil de l'entreprise...\")\n",
    "    company_profile = get_company_profile(ticker)\n",
    "    print(company_profile)\n",
    "\n",
    "if __name__ == \"__main__\":\n",
    "    main()\n"
   ]
  }
 ],
 "metadata": {
  "kernelspec": {
   "display_name": "Python 3",
   "language": "python",
   "name": "python3"
  },
  "language_info": {
   "codemirror_mode": {
    "name": "ipython",
    "version": 3
   },
   "file_extension": ".py",
   "mimetype": "text/x-python",
   "name": "python",
   "nbconvert_exporter": "python",
   "pygments_lexer": "ipython3",
   "version": "3.11.9"
  }
 },
 "nbformat": 4,
 "nbformat_minor": 2
}
